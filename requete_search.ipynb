{
 "cells": [
  {
   "cell_type": "code",
   "execution_count": 3,
   "metadata": {},
   "outputs": [
    {
     "name": "stdout",
     "output_type": "stream",
     "text": [
      "Documents trouvés pour la ville 'Abbans' :\n",
      "{'id': '250560012-10A', 'numero': '10A', 'rue': 'Rue Abraham Louis Breguet', 'code_postal': '25000', 'ville': 'Besançon', 'source': 'OSM', 'latitude': 47.23479, 'longitude': 5.973675}\n",
      "{'id': '250560012-10B', 'numero': '10B', 'rue': 'Rue Abraham Louis Breguet', 'code_postal': '25000', 'ville': 'Besançon', 'source': 'OSM', 'latitude': 47.234761, 'longitude': 5.973625}\n",
      "{'id': '250560012-10C', 'numero': '10C', 'rue': 'Rue Abraham Louis Breguet', 'code_postal': '25000', 'ville': 'Besançon', 'source': 'OSM', 'latitude': 47.234788, 'longitude': 5.973569}\n",
      "{'id': '250560012-10D', 'numero': '10D', 'rue': 'Rue Abraham Louis Breguet', 'code_postal': '25000', 'ville': 'Besançon', 'source': 'OSM', 'latitude': 47.234779, 'longitude': 5.973536}\n",
      "{'id': '250560012-10E', 'numero': '10E', 'rue': 'Rue Abraham Louis Breguet', 'code_postal': '25000', 'ville': 'Besançon', 'source': 'OSM', 'latitude': 47.234736, 'longitude': 5.973492}\n",
      "{'id': '250560012-10F', 'numero': '10F', 'rue': 'Rue Abraham Louis Breguet', 'code_postal': '25000', 'ville': 'Besançon', 'source': 'OSM', 'latitude': 47.234749, 'longitude': 5.973437}\n",
      "{'id': '250560012-10G', 'numero': '10G', 'rue': 'Rue Abraham Louis Breguet', 'code_postal': '25000', 'ville': 'Besançon', 'source': 'OSM', 'latitude': 47.234702, 'longitude': 5.97343}\n",
      "{'id': '250560012-10H', 'numero': '10H', 'rue': 'Rue Abraham Louis Breguet', 'code_postal': '25000', 'ville': 'Besançon', 'source': 'OSM', 'latitude': 47.234726, 'longitude': 5.97336}\n",
      "{'id': '250560012-10I', 'numero': '10I', 'rue': 'Rue Abraham Louis Breguet', 'code_postal': '25000', 'ville': 'Besançon', 'source': 'OSM', 'latitude': 47.234676, 'longitude': 5.973292}\n",
      "{'id': '250560012-10J', 'numero': '10J', 'rue': 'Rue Abraham Louis Breguet', 'code_postal': '25000', 'ville': 'Besançon', 'source': 'OSM', 'latitude': 47.234691, 'longitude': 5.973241}\n"
     ]
    }
   ],
   "source": [
    "from elasticsearch import Elasticsearch\n",
    "\n",
    "es = Elasticsearch(\"http://localhost:9200\")\n",
    "\n",
    "if not es.ping():\n",
    "    raise Exception(\"Erreur de connexion à Elasticsearch!\")\n",
    "\n",
    "response = es.search(\n",
    "    index=\"adresses\",\n",
    "    body={\n",
    "        \"query\": {\n",
    "            \"match\": {\n",
    "                \"ville\": \"Besançon\"\n",
    "            }\n",
    "        }\n",
    "    }\n",
    ")\n",
    "\n",
    "\n",
    "\n",
    "print(\"Documents trouvés pour la ville 'Abbans' :\")\n",
    "for doc in response['hits']['hits']:\n",
    "    print(doc['_source'])\n"
   ]
  },
  {
   "cell_type": "code",
   "execution_count": 8,
   "metadata": {},
   "outputs": [
    {
     "name": "stderr",
     "output_type": "stream",
     "text": [
      "C:\\Users\\mehdi.mougin\\AppData\\Local\\Temp\\ipykernel_12200\\1666774118.py:11: DeprecationWarning: Passing transport options in the API method is deprecated. Use 'Elasticsearch.options()' instead.\n",
      "  es.indices.delete(index='adresses_reformated', ignore=[400, 404])\n"
     ]
    },
    {
     "name": "stdout",
     "output_type": "stream",
     "text": [
      "Réindexation terminée.\n"
     ]
    }
   ],
   "source": [
    "from elasticsearch import Elasticsearch\n",
    "\n",
    "# Connexion à Elasticsearch\n",
    "es = Elasticsearch(\"http://localhost:9200\")\n",
    "\n",
    "# Récupérer toutes les données de l'index 'adresses'\n",
    "response = es.search(index=\"adresses\", body={\"query\": {\"match_all\": {}}, \"size\": 10000})  # Limite à 10 000 résultats\n",
    "data = response['hits']['hits']\n",
    "\n",
    "# Supprimer l'index reformated s'il existe déjà\n",
    "es.indices.delete(index='adresses_reformated', ignore=[400, 404])\n",
    "\n",
    "# Définir le nouveau mapping avec le champ geo_point\n",
    "mapping = {\n",
    "    \"mappings\": {\n",
    "        \"properties\": {\n",
    "            \"code_postal\": {\"type\": \"keyword\"},\n",
    "            \"id\": {\"type\": \"keyword\"},\n",
    "            \"latitude\": {\"type\": \"float\"},\n",
    "            \"longitude\": {\"type\": \"float\"},\n",
    "            \"numero\": {\"type\": \"text\"},\n",
    "            \"rue\": {\"type\": \"text\"},\n",
    "            \"source\": {\"type\": \"text\"},\n",
    "            \"ville\": {\"type\": \"text\"},\n",
    "            \"location\": {\"type\": \"geo_point\"}  # Champ geo_point\n",
    "        }\n",
    "    }\n",
    "}\n",
    "\n",
    "# Créer le nouvel index\n",
    "es.indices.create(index=\"adresses_reformated\", body=mapping)\n",
    "\n",
    "# Reformater et réindexer les données\n",
    "for doc in data:\n",
    "    source = doc['_source']\n",
    "    # Ajouter le champ geo_point\n",
    "    if 'latitude' in source and 'longitude' in source:\n",
    "        source['location'] = {\"lat\": source['latitude'], \"lon\": source['longitude']}\n",
    "    \n",
    "    # Réindexer dans le nouvel index\n",
    "    es.index(index=\"adresses_reformated\", body=source, id=doc['_id'])\n",
    "\n",
    "print(\"Réindexation terminée.\")\n"
   ]
  }
 ],
 "metadata": {
  "kernelspec": {
   "display_name": "Python 3",
   "language": "python",
   "name": "python3"
  },
  "language_info": {
   "codemirror_mode": {
    "name": "ipython",
    "version": 3
   },
   "file_extension": ".py",
   "mimetype": "text/x-python",
   "name": "python",
   "nbconvert_exporter": "python",
   "pygments_lexer": "ipython3",
   "version": "3.11.9"
  }
 },
 "nbformat": 4,
 "nbformat_minor": 2
}
